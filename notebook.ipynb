{
 "cells": [
  {
   "cell_type": "code",
   "execution_count": null,
   "id": "8dab93a1",
   "metadata": {},
   "outputs": [],
   "source": [
    "from selenium import webdriver\n",
    "from selenium.webdriver.common.by import By\n"
   ]
  },
  {
   "cell_type": "code",
   "execution_count": null,
   "id": "7020d1df",
   "metadata": {},
   "outputs": [],
   "source": [
    "def saveResult (offers, page):\n",
    "    fileCsv = open(f'seminovos_{page}.csv', 'a')\n",
    "    fileCsv.write('make;model;version;year_manufacture;year_model;km;price;location\\n')\n",
    "\n",
    "    i = 1\n",
    "\n",
    "    for eachOffer in offers:\n",
    "        makeModel = eachOffer.find_element(By.CSS_SELECTOR, 'a.font-roboto-700-20px').text.split(' ', 1)\n",
    "        version = eachOffer.find_element(By.CSS_SELECTOR, 'div.font-roboto-400-12px').text\n",
    "        years = eachOffer.find_element(By.CSS_SELECTOR, 'span.ano_fabricacao_modelo').text.split('/')\n",
    "        km = eachOffer.find_element(By.CSS_SELECTOR, 'span.quilometragem').text\n",
    "        price = eachOffer.find_element(By.CSS_SELECTOR, 'div.font-roboto-700').text\n",
    "        location = eachOffer.find_element(By.CSS_SELECTOR, 'span.font-roboto-400').text\n",
    "\n",
    "        print (\"\\n===========================\")\n",
    "        print (f\"== PAGE {page} | Offer {i}/100\")\n",
    "        print (\"===========================\")\n",
    "        print (f'Make: {makeModel[0]}')\n",
    "        print (f'Model: {makeModel[1]}')\n",
    "        print (f'Version: {version}')\n",
    "        print (f'Year: {years[0]} / {years[1]}')\n",
    "        print (f'Km: {km}')\n",
    "        print (f'Price: {price}')\n",
    "        print (f'Location: {location}')\n",
    "        print (\"===========================\\n\")\n",
    "\n",
    "        fileCsv.write(f'{makeModel[0]};{makeModel[1]};{version};{years[0]};{years[1]};{km};{price};{location}\\n')\n",
    "        i += 1\n",
    "\n",
    "    fileCsv.close()\n",
    "\n",
    "\n",
    "\n"
   ]
  },
  {
   "cell_type": "code",
   "execution_count": null,
   "id": "19ce7e42",
   "metadata": {},
   "outputs": [],
   "source": [
    "driver = webdriver.Chrome() "
   ]
  },
  {
   "cell_type": "code",
   "execution_count": null,
   "id": "2450dc87",
   "metadata": {},
   "outputs": [],
   "source": [
    "for page in range(2, 26):\n",
    "    driver.get('https://seminovos.unidas.com.br/veiculos?page={}&perpage=100&layout=grid'.format(page)) \n",
    "\n",
    "    driver.maximize_window() \n",
    "    driver.implicitly_wait(10) \n",
    "\n",
    "    resultOffers = driver.find_elements(By.CSS_SELECTOR, \"div.veiculo\") \n",
    "\n",
    "    saveResult(resultOffers, page)\n"
   ]
  },
  {
   "cell_type": "code",
   "execution_count": null,
   "id": "1735fde0",
   "metadata": {},
   "outputs": [],
   "source": [
    "driver.quit()"
   ]
  },
  {
   "cell_type": "code",
   "execution_count": null,
   "id": "1e31f9f6",
   "metadata": {},
   "outputs": [],
   "source": []
  },
  {
   "cell_type": "code",
   "execution_count": null,
   "id": "24fa390d",
   "metadata": {},
   "outputs": [],
   "source": []
  }
 ],
 "metadata": {
  "kernelspec": {
   "display_name": "Python 3 (ipykernel)",
   "language": "python",
   "name": "python3"
  },
  "language_info": {
   "codemirror_mode": {
    "name": "ipython",
    "version": 3
   },
   "file_extension": ".py",
   "mimetype": "text/x-python",
   "name": "python",
   "nbconvert_exporter": "python",
   "pygments_lexer": "ipython3",
   "version": "3.9.7"
  }
 },
 "nbformat": 4,
 "nbformat_minor": 5
}
